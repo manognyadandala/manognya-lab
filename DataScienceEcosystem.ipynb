{
 "cells": [
  {
   "cell_type": "markdown",
   "id": "32a6a101-9158-4f5c-8600-e089a9b156f0",
   "metadata": {},
   "source": [
    "# Data Science Tools and Ecosystem"
   ]
  },
  {
   "cell_type": "markdown",
   "id": "fc9db9f9-0ce4-4c45-84ab-42bd191bf360",
   "metadata": {},
   "source": [
    "In this notebook, Data Science Tools and Ecosystem are summarized.\n"
   ]
  },
  {
   "cell_type": "markdown",
   "id": "2abbd8ce-1b2f-4fac-91ac-4fd8015fe3d8",
   "metadata": {},
   "source": [
    "Some of the popular languages that Data Scientists use are:\n",
    "1. R\n",
    "2. Python"
   ]
  },
  {
   "cell_type": "markdown",
   "id": "d5a1e04b-8ff1-428e-a9fd-1fbb7d960c29",
   "metadata": {},
   "source": [
    "Some of the commonly used libraries used by Data Scientists include:\n",
    "1. Scikit-learn\n",
    "2. Tkinter\n",
    "3. Matlplotlib\n",
    "4. Numpy"
   ]
  },
  {
   "cell_type": "markdown",
   "id": "7df3a536-6998-4524-b014-dc666b79151b",
   "metadata": {},
   "source": [
    "| Data Science Tools |\n",
    "| --- |\n",
    "| TensorFlow |\n",
    "| MongoDB |\n",
    "| Apache Hadoop |"
   ]
  },
  {
   "cell_type": "markdown",
   "id": "525a6c65-f946-4827-b87a-2137d28221f7",
   "metadata": {},
   "source": [
    "### Below are a few examples of evaluating arithmetic expressions in Python"
   ]
  },
  {
   "cell_type": "code",
   "execution_count": 1,
   "id": "33bde77a-9e67-4864-abcb-ce63987f59c3",
   "metadata": {
    "tags": []
   },
   "outputs": [
    {
     "data": {
      "text/plain": [
       "17"
      ]
     },
     "execution_count": 1,
     "metadata": {},
     "output_type": "execute_result"
    }
   ],
   "source": [
    "## This a simple arithmetic expression to mutiply then add integers\n",
    "(3*4)+5"
   ]
  },
  {
   "cell_type": "code",
   "execution_count": 2,
   "id": "2963471a-82c3-4619-8b2e-d3d30e7ab09b",
   "metadata": {
    "tags": []
   },
   "outputs": [
    {
     "data": {
      "text/plain": [
       "3.3333333333333335"
      ]
     },
     "execution_count": 2,
     "metadata": {},
     "output_type": "execute_result"
    }
   ],
   "source": [
    " # This will convert 200 minutes to hours by diving by 60\n",
    "200/60"
   ]
  },
  {
   "cell_type": "markdown",
   "id": "872c60d8-6115-41f8-8474-c6940100f01f",
   "metadata": {},
   "source": [
    "**Objectives**:\n",
    "- Python\n",
    "- R\n",
    "- SQL"
   ]
  },
  {
   "cell_type": "markdown",
   "id": "70ae7290-2294-4a41-85cf-aa1372c4b456",
   "metadata": {},
   "source": [
    "## Author\n",
    "Manognya Kumar"
   ]
  },
  {
   "cell_type": "code",
   "execution_count": null,
   "id": "12803eb7-c7c7-4ffd-9a80-7ae3c690da87",
   "metadata": {},
   "outputs": [],
   "source": []
  }
 ],
 "metadata": {
  "kernelspec": {
   "display_name": "Python",
   "language": "python",
   "name": "conda-env-python-py"
  },
  "language_info": {
   "codemirror_mode": {
    "name": "ipython",
    "version": 3
   },
   "file_extension": ".py",
   "mimetype": "text/x-python",
   "name": "python",
   "nbconvert_exporter": "python",
   "pygments_lexer": "ipython3",
   "version": "3.7.12"
  }
 },
 "nbformat": 4,
 "nbformat_minor": 5
}
